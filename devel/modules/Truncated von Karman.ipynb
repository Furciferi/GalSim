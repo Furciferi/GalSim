{
 "cells": [
  {
   "cell_type": "code",
   "execution_count": null,
   "metadata": {
    "collapsed": true
   },
   "outputs": [],
   "source": [
    "import galsim\n",
    "import numpy as np\n",
    "import matplotlib.pyplot as plt\n",
    "%matplotlib inline"
   ]
  },
  {
   "cell_type": "code",
   "execution_count": null,
   "metadata": {
    "collapsed": true
   },
   "outputs": [],
   "source": [
    "j0 = galsim.bessel.j0\n",
    "int1d = galsim.integ.int1d"
   ]
  },
  {
   "cell_type": "code",
   "execution_count": null,
   "metadata": {
    "collapsed": true
   },
   "outputs": [],
   "source": [
    "class Fphi:\n",
    "    def __init__(self, r0, L0):\n",
    "        self.r0 = r0\n",
    "        self.L0 = L0\n",
    "    def __call__(self, kappa):\n",
    "        return 0.033/0.423*self.r0**(-5./3)*(kappa**2+self.L0**(-2))**(-11./6)"
   ]
  },
  {
   "cell_type": "code",
   "execution_count": null,
   "metadata": {
    "collapsed": true
   },
   "outputs": [],
   "source": [
    "class Dphi:\n",
    "    def __init__(self, r0, L0, kappa_min=0.0):\n",
    "        self.r0 = r0\n",
    "        self.L0 = L0\n",
    "        self.kappa_min = kappa_min\n",
    "        self.Fphi_ = Fphi(r0, L0)\n",
    "    def _integrand(self, rho):\n",
    "        return lambda kappa: self.Fphi_(kappa)*(1-j0(rho*kappa))*kappa\n",
    "    def __call__(self, rho):\n",
    "        return 8*np.pi**2*int1d(self._integrand(rho), self.kappa_min, np.inf)"
   ]
  },
  {
   "cell_type": "code",
   "execution_count": null,
   "metadata": {
    "collapsed": true
   },
   "outputs": [],
   "source": [
    "class CanonicalDphi:\n",
    "    def __init__(self, beta_min=0.0):\n",
    "        self.beta_min = beta_min\n",
    "    def _integrand(self, nu):\n",
    "        return lambda beta: (1.0+beta*beta)**(-11./6)*(1.0-j0(nu*beta))*beta\n",
    "    def __call__(self, nu):\n",
    "        return int1d(self._integrand(nu), self.beta_min, np.inf)"
   ]
  },
  {
   "cell_type": "code",
   "execution_count": null,
   "metadata": {
    "collapsed": true
   },
   "outputs": [],
   "source": [
    "class ScaledDphi:\n",
    "    def __init__(self, r0, L0=np.inf, kappa_min=0.0):\n",
    "        self.r0 = r0\n",
    "        if L0 > 1e100:\n",
    "            L0 = 1e100\n",
    "        self.L0 = L0\n",
    "        self.kappa_min = kappa_min\n",
    "        self.beta_min = self.L0*kappa_min\n",
    "    magic = 0.033/0.423*8*np.pi**2\n",
    "    def __call__(self, rho):\n",
    "        return self.magic*CanonicalDphi(beta_min=self.beta_min)(rho/self.L0) * (self.r0/self.L0)**(-5./3)"
   ]
  },
  {
   "cell_type": "code",
   "execution_count": null,
   "metadata": {
    "collapsed": true
   },
   "outputs": [],
   "source": [
    "class MTF:\n",
    "    def __init__(self, lam, r0, L0=np.inf, kappa_min=0.0):\n",
    "        self.lam = lam\n",
    "        self.r0 = r0\n",
    "        self.L0 = L0\n",
    "        self.kappa_min = kappa_min\n",
    "        self.dphi = ScaledDphi(r0, L0, kappa_min)\n",
    "    def __call__(self, k):\n",
    "        # k in inverse radians\n",
    "        rho = self.lam*k/(2*np.pi)\n",
    "        return np.exp(-0.5*(self.dphi(rho)))"
   ]
  },
  {
   "cell_type": "code",
   "execution_count": null,
   "metadata": {
    "collapsed": true
   },
   "outputs": [],
   "source": [
    "class ScaledMTF:\n",
    "    def __init__(self, lam, r0, L0=np.inf, kappa_min=0.0):\n",
    "        self.lam = lam\n",
    "        self.r0 = r0\n",
    "        self.L0 = L0\n",
    "        self.kappa_min = kappa_min\n",
    "        self.dphi = Dphi(r0, L0, kappa_min)\n",
    "    def __call__(self, k):\n",
    "        # k in inverse radians\n",
    "        rho = self.lam*k/(2*np.pi)\n",
    "        return np.exp(-0.5*(self.dphi(rho)))"
   ]
  },
  {
   "cell_type": "code",
   "execution_count": null,
   "metadata": {},
   "outputs": [],
   "source": [
    "# Are Dphi and ScaledDphi the same?\n",
    "lam = 500e-9\n",
    "r0 = 0.2\n",
    "L0 = 1e4\n",
    "kappa_min = 1.0\n",
    "dphi = Dphi(r0, L0, kappa_min)\n",
    "sdphi = ScaledDphi(r0, L0, kappa_min)\n",
    "\n",
    "rhos = [0.01, 0.1, 0.2, 0.3, 0.4, 1.0, 10.0, 20.0]\n",
    "for rho in rhos:\n",
    "    print(dphi(rho), sdphi(rho), dphi(rho)/sdphi(rho))"
   ]
  },
  {
   "cell_type": "code",
   "execution_count": null,
   "metadata": {},
   "outputs": [],
   "source": [
    "# Is MTF the same as what comes out of galsim.Kolmogorov?\n",
    "lam = 500e-9\n",
    "r0 = 0.2\n",
    "L0 = 1e5\n",
    "kappa_min = 10\n",
    "\n",
    "kolm = galsim.Kolmogorov(r0=r0, lam=lam*1e9)\n",
    "print(kolm.stepK(), kolm.maxK())\n",
    "kmtf = lambda k: kolm.kValue(k, 0.0).real\n",
    "mtf = MTF(lam, r0, L0, kappa_min)\n",
    "smtf = ScaledMTF(lam, r0, L0, kappa_min)\n",
    "\n",
    "ks = [0.0, 1.0, 10.0, 25.0]\n",
    "print(\"MTF vs Kolmogorov\")\n",
    "for k in ks:\n",
    "    print(k, mtf(k*galsim.radians/galsim.arcsec), kmtf(k), mtf(k*galsim.radians/galsim.arcsec)/kmtf(k))\n",
    "print()\n",
    "print(\"ScaledMTF vs Kolmogorov\")\n",
    "for k in ks:\n",
    "    print(k, smtf(k*galsim.radians/galsim.arcsec), kmtf(k), smtf(k*galsim.radians/galsim.arcsec)/kmtf(k))\n",
    "print()\n",
    "print(\"MTF vs ScaledMTF\")\n",
    "for k in ks:\n",
    "    print(k, mtf(k*galsim.radians/galsim.arcsec), smtf(k*galsim.radians/galsim.arcsec), mtf(k*galsim.radians/galsim.arcsec)/smtf(k*galsim.radians/galsim.arcsec))\n",
    "\n",
    "# Note conclusions:  ScaledMTF works pretty well even when L0 = 1e20.  Regular MTF can't handle this though."
   ]
  },
  {
   "cell_type": "code",
   "execution_count": null,
   "metadata": {},
   "outputs": [],
   "source": [
    "ks = np.linspace(0.0, 250.0)\n",
    "plt.figure()\n",
    "plt.plot(ks, [smtf(k*galsim.radians/galsim.arcsec) for k in ks], label=\"MTF\")\n",
    "plt.plot(ks, [kmtf(k) for k in ks], label=\"Kolmogorov\")\n",
    "plt.xlabel(\"k (arcsec^-1)\")\n",
    "plt.ylabel(\"MTF\")\n",
    "plt.legend()\n",
    "plt.show()"
   ]
  },
  {
   "cell_type": "code",
   "execution_count": null,
   "metadata": {
    "collapsed": true
   },
   "outputs": [],
   "source": [
    "# Not going to even bother wrapping the regular MTF here.  It's straight to ScaledMTF.\n",
    "class PSF:\n",
    "    def __init__(self, lam, r0, L0=np.inf, kappa_min=0.0):\n",
    "        self.lam = lam\n",
    "        self.r0 = r0\n",
    "        self.L0 = L0\n",
    "        self.kappa_min = kappa_min\n",
    "        self.mtf = ScaledMTF(lam, r0, L0, kappa_min)\n",
    "    def __call__(self, alpha):\n",
    "        return int1d(lambda k: self.mtf(k)*j0(alpha*k)*k, 0, 500*206265)"
   ]
  },
  {
   "cell_type": "code",
   "execution_count": null,
   "metadata": {},
   "outputs": [],
   "source": [
    "lam = 500e-9\n",
    "r0 = 0.2\n",
    "L0 = 1e2\n",
    "kappa_min = 3\n",
    "psf = PSF(lam, r0, L0, kappa_min)\n",
    "kolm = galsim.Kolmogorov(r0=r0, lam=lam*1e9)\n",
    "\n",
    "a0 = psf(0)\n",
    "ak0 = kolm.xValue(0,0)\n",
    "\n",
    "alphas = np.linspace(0.0, 1.5, 20)\n",
    "psfvk = [psf(a*galsim.arcsec/galsim.radians)/a0 for a in alphas]\n",
    "psfk = [kolm.xValue(a,0)/ak0 for a in alphas]\n",
    "\n",
    "plt.plot(alphas, psfvk, label='vK')\n",
    "plt.plot(alphas, psfk, label='Kolm')\n",
    "plt.legend()\n",
    "plt.xlabel(\"arcsec\")\n",
    "plt.ylabel(\"PSF\")\n",
    "plt.show()\n",
    "\n",
    "plt.plot(alphas, psfvk, label='vK')\n",
    "plt.plot(alphas, psfk, label='Kolm')\n",
    "plt.legend()\n",
    "plt.xlabel(\"arcsec\")\n",
    "plt.ylabel(\"PSF\")\n",
    "plt.yscale('log')\n",
    "plt.show()"
   ]
  },
  {
   "cell_type": "code",
   "execution_count": null,
   "metadata": {},
   "outputs": [],
   "source": [
    "lam = 500e-9\n",
    "r0 = 0.2\n",
    "L0 = 1e2\n",
    "kappa_min = 3\n",
    "psf = PSF(lam, r0, L0, kappa_min)\n",
    "kolm = galsim.Kolmogorov(r0=r0, lam=lam*1e9)\n",
    "\n",
    "a0 = psf(0)\n",
    "ak0 = kolm.xValue(0,0)\n",
    "\n",
    "alphas = np.linspace(0.0, 1.5, 20)\n",
    "psfvk = [psf(a*galsim.arcsec/galsim.radians)/a0 for a in alphas]\n",
    "psfk = [kolm.xValue(a,0)/ak0 for a in alphas]\n",
    "\n",
    "plt.plot(alphas, psfvk, label='vK')\n",
    "plt.plot(alphas, psfk, label='Kolm')\n",
    "plt.legend()\n",
    "plt.xlabel(\"arcsec\")\n",
    "plt.ylabel(\"PSF\")\n",
    "plt.show()\n",
    "\n",
    "plt.plot(alphas, psfvk, label='vK')\n",
    "plt.plot(alphas, psfk, label='Kolm')\n",
    "plt.legend()\n",
    "plt.xlabel(\"arcsec\")\n",
    "plt.ylabel(\"PSF\")\n",
    "plt.yscale('log')\n",
    "plt.show()"
   ]
  },
  {
   "cell_type": "code",
   "execution_count": null,
   "metadata": {
    "collapsed": true
   },
   "outputs": [],
   "source": []
  }
 ],
 "metadata": {
  "kernelspec": {
   "display_name": "Python 3",
   "language": "python",
   "name": "python3"
  },
  "language_info": {
   "codemirror_mode": {
    "name": "ipython",
    "version": 3
   },
   "file_extension": ".py",
   "mimetype": "text/x-python",
   "name": "python",
   "nbconvert_exporter": "python",
   "pygments_lexer": "ipython3",
   "version": "3.5.2"
  }
 },
 "nbformat": 4,
 "nbformat_minor": 2
}
